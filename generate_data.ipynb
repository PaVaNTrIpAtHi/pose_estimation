{
 "cells": [
  {
   "cell_type": "markdown",
   "id": "e2cf8daa",
   "metadata": {},
   "source": [
    "# 0. Install and Import Dependencies"
   ]
  },
  {
   "cell_type": "code",
   "execution_count": 1,
   "id": "0891cb23",
   "metadata": {},
   "outputs": [],
   "source": [
    "import cv2\n",
    "import pandas as pd\n",
    "import mediapipe as mp\n",
    "import numpy as np\n",
    "mp_drawing = mp.solutions.drawing_utils\n",
    "mp_pose = mp.solutions.pose"
   ]
  },
  {
   "cell_type": "code",
   "execution_count": 2,
   "id": "fb997a03",
   "metadata": {},
   "outputs": [],
   "source": [
    "# !pip install pandas"
   ]
  },
  {
   "cell_type": "code",
   "execution_count": 3,
   "id": "e6d11267",
   "metadata": {},
   "outputs": [],
   "source": [
    "# VIDEO FEED\n",
    "cap = cv2.VideoCapture(\"hs.mp4\")\n",
    "while cap.isOpened():\n",
    "    ret, frame = cap.read()\n",
    "    if ret == True:\n",
    "#         print(ret)\n",
    "        cv2.imshow('Mediapipe Feed', frame)\n",
    "    \n",
    "        if cv2.waitKey(10) & 0xFF == ord('q'):\n",
    "            break\n",
    "    else:\n",
    "        break\n",
    "        \n",
    "cap.release()\n",
    "cv2.destroyAllWindows()"
   ]
  },
  {
   "cell_type": "code",
   "execution_count": 4,
   "id": "cc622bce",
   "metadata": {},
   "outputs": [],
   "source": [
    "# !pip install pytube"
   ]
  },
  {
   "cell_type": "markdown",
   "id": "1a205488",
   "metadata": {},
   "source": [
    "# download data from youtube"
   ]
  },
  {
   "cell_type": "raw",
   "id": "f60cee48",
   "metadata": {},
   "source": [
    "# importing the module\n",
    "from pytube import YouTube\n",
    "\n",
    "# where to save\n",
    "SAVE_PATH = \"C:/Users/Hi/research/dhoni/\"\n",
    "yt = YouTube('https://www.youtube.com/watch?v=vN5FjJa3bKA')\n",
    "yt.streams.filter(progressive=True, file_extension='mp4').order_by('resolution')[-1].download()\n",
    "\n"
   ]
  },
  {
   "cell_type": "code",
   "execution_count": 2,
   "id": "cebdd8d1",
   "metadata": {},
   "outputs": [],
   "source": [
    "col_names = []\n",
    "for lndmrk in mp_pose.PoseLandmark:\n",
    "    col_names.append(str(lndmrk)[13:]+\"_X\")\n",
    "    col_names.append(str(lndmrk)[13:]+\"_Y\")\n",
    "#     col_names.append(str(lndmrk)[13:]+\"_Z\")"
   ]
  },
  {
   "cell_type": "code",
   "execution_count": 3,
   "id": "dcd4340d",
   "metadata": {},
   "outputs": [
    {
     "data": {
      "text/plain": [
       "66"
      ]
     },
     "execution_count": 3,
     "metadata": {},
     "output_type": "execute_result"
    }
   ],
   "source": [
    "len(col_names)"
   ]
  },
  {
   "cell_type": "code",
   "execution_count": 4,
   "id": "3b9f0a65",
   "metadata": {},
   "outputs": [
    {
     "data": {
      "text/html": [
       "<div>\n",
       "<style scoped>\n",
       "    .dataframe tbody tr th:only-of-type {\n",
       "        vertical-align: middle;\n",
       "    }\n",
       "\n",
       "    .dataframe tbody tr th {\n",
       "        vertical-align: top;\n",
       "    }\n",
       "\n",
       "    .dataframe thead th {\n",
       "        text-align: right;\n",
       "    }\n",
       "</style>\n",
       "<table border=\"1\" class=\"dataframe\">\n",
       "  <thead>\n",
       "    <tr style=\"text-align: right;\">\n",
       "      <th></th>\n",
       "      <th>NOSE_X</th>\n",
       "      <th>NOSE_Y</th>\n",
       "      <th>LEFT_EYE_INNER_X</th>\n",
       "      <th>LEFT_EYE_INNER_Y</th>\n",
       "      <th>LEFT_EYE_X</th>\n",
       "      <th>LEFT_EYE_Y</th>\n",
       "      <th>LEFT_EYE_OUTER_X</th>\n",
       "      <th>LEFT_EYE_OUTER_Y</th>\n",
       "      <th>RIGHT_EYE_INNER_X</th>\n",
       "      <th>RIGHT_EYE_INNER_Y</th>\n",
       "      <th>...</th>\n",
       "      <th>RIGHT_ANKLE_X</th>\n",
       "      <th>RIGHT_ANKLE_Y</th>\n",
       "      <th>LEFT_HEEL_X</th>\n",
       "      <th>LEFT_HEEL_Y</th>\n",
       "      <th>RIGHT_HEEL_X</th>\n",
       "      <th>RIGHT_HEEL_Y</th>\n",
       "      <th>LEFT_FOOT_INDEX_X</th>\n",
       "      <th>LEFT_FOOT_INDEX_Y</th>\n",
       "      <th>RIGHT_FOOT_INDEX_X</th>\n",
       "      <th>RIGHT_FOOT_INDEX_Y</th>\n",
       "    </tr>\n",
       "  </thead>\n",
       "  <tbody>\n",
       "  </tbody>\n",
       "</table>\n",
       "<p>0 rows × 66 columns</p>\n",
       "</div>"
      ],
      "text/plain": [
       "Empty DataFrame\n",
       "Columns: [NOSE_X, NOSE_Y, LEFT_EYE_INNER_X, LEFT_EYE_INNER_Y, LEFT_EYE_X, LEFT_EYE_Y, LEFT_EYE_OUTER_X, LEFT_EYE_OUTER_Y, RIGHT_EYE_INNER_X, RIGHT_EYE_INNER_Y, RIGHT_EYE_X, RIGHT_EYE_Y, RIGHT_EYE_OUTER_X, RIGHT_EYE_OUTER_Y, LEFT_EAR_X, LEFT_EAR_Y, RIGHT_EAR_X, RIGHT_EAR_Y, MOUTH_LEFT_X, MOUTH_LEFT_Y, MOUTH_RIGHT_X, MOUTH_RIGHT_Y, LEFT_SHOULDER_X, LEFT_SHOULDER_Y, RIGHT_SHOULDER_X, RIGHT_SHOULDER_Y, LEFT_ELBOW_X, LEFT_ELBOW_Y, RIGHT_ELBOW_X, RIGHT_ELBOW_Y, LEFT_WRIST_X, LEFT_WRIST_Y, RIGHT_WRIST_X, RIGHT_WRIST_Y, LEFT_PINKY_X, LEFT_PINKY_Y, RIGHT_PINKY_X, RIGHT_PINKY_Y, LEFT_INDEX_X, LEFT_INDEX_Y, RIGHT_INDEX_X, RIGHT_INDEX_Y, LEFT_THUMB_X, LEFT_THUMB_Y, RIGHT_THUMB_X, RIGHT_THUMB_Y, LEFT_HIP_X, LEFT_HIP_Y, RIGHT_HIP_X, RIGHT_HIP_Y, LEFT_KNEE_X, LEFT_KNEE_Y, RIGHT_KNEE_X, RIGHT_KNEE_Y, LEFT_ANKLE_X, LEFT_ANKLE_Y, RIGHT_ANKLE_X, RIGHT_ANKLE_Y, LEFT_HEEL_X, LEFT_HEEL_Y, RIGHT_HEEL_X, RIGHT_HEEL_Y, LEFT_FOOT_INDEX_X, LEFT_FOOT_INDEX_Y, RIGHT_FOOT_INDEX_X, RIGHT_FOOT_INDEX_Y]\n",
       "Index: []\n",
       "\n",
       "[0 rows x 66 columns]"
      ]
     },
     "execution_count": 4,
     "metadata": {},
     "output_type": "execute_result"
    }
   ],
   "source": [
    "\n",
    "df = pd.DataFrame(columns=col_names)\n",
    "df"
   ]
  },
  {
   "cell_type": "code",
   "execution_count": 5,
   "id": "a60da79e",
   "metadata": {},
   "outputs": [
    {
     "data": {
      "text/plain": [
       "'LEFT_SHOULDER_X'"
      ]
     },
     "execution_count": 5,
     "metadata": {},
     "output_type": "execute_result"
    }
   ],
   "source": [
    "col_names[22]"
   ]
  },
  {
   "cell_type": "code",
   "execution_count": null,
   "id": "a2862380",
   "metadata": {},
   "outputs": [],
   "source": []
  },
  {
   "cell_type": "code",
   "execution_count": null,
   "id": "a6f50d83",
   "metadata": {},
   "outputs": [],
   "source": []
  },
  {
   "cell_type": "code",
   "execution_count": null,
   "id": "53024c03",
   "metadata": {},
   "outputs": [],
   "source": []
  },
  {
   "cell_type": "code",
   "execution_count": null,
   "id": "e490fa3d",
   "metadata": {},
   "outputs": [],
   "source": []
  },
  {
   "cell_type": "code",
   "execution_count": 6,
   "id": "c133bece",
   "metadata": {},
   "outputs": [],
   "source": [
    "col_names = col_names[22:]"
   ]
  },
  {
   "cell_type": "code",
   "execution_count": 7,
   "id": "2908042c",
   "metadata": {},
   "outputs": [
    {
     "data": {
      "text/plain": [
       "['LEFT_SHOULDER_X',\n",
       " 'LEFT_SHOULDER_Y',\n",
       " 'RIGHT_SHOULDER_X',\n",
       " 'RIGHT_SHOULDER_Y',\n",
       " 'LEFT_ELBOW_X',\n",
       " 'LEFT_ELBOW_Y',\n",
       " 'RIGHT_ELBOW_X',\n",
       " 'RIGHT_ELBOW_Y',\n",
       " 'LEFT_WRIST_X',\n",
       " 'LEFT_WRIST_Y',\n",
       " 'RIGHT_WRIST_X',\n",
       " 'RIGHT_WRIST_Y',\n",
       " 'LEFT_PINKY_X',\n",
       " 'LEFT_PINKY_Y',\n",
       " 'RIGHT_PINKY_X',\n",
       " 'RIGHT_PINKY_Y',\n",
       " 'LEFT_INDEX_X',\n",
       " 'LEFT_INDEX_Y',\n",
       " 'RIGHT_INDEX_X',\n",
       " 'RIGHT_INDEX_Y',\n",
       " 'LEFT_THUMB_X',\n",
       " 'LEFT_THUMB_Y',\n",
       " 'RIGHT_THUMB_X',\n",
       " 'RIGHT_THUMB_Y',\n",
       " 'LEFT_HIP_X',\n",
       " 'LEFT_HIP_Y',\n",
       " 'RIGHT_HIP_X',\n",
       " 'RIGHT_HIP_Y',\n",
       " 'LEFT_KNEE_X',\n",
       " 'LEFT_KNEE_Y',\n",
       " 'RIGHT_KNEE_X',\n",
       " 'RIGHT_KNEE_Y',\n",
       " 'LEFT_ANKLE_X',\n",
       " 'LEFT_ANKLE_Y',\n",
       " 'RIGHT_ANKLE_X',\n",
       " 'RIGHT_ANKLE_Y',\n",
       " 'LEFT_HEEL_X',\n",
       " 'LEFT_HEEL_Y',\n",
       " 'RIGHT_HEEL_X',\n",
       " 'RIGHT_HEEL_Y',\n",
       " 'LEFT_FOOT_INDEX_X',\n",
       " 'LEFT_FOOT_INDEX_Y',\n",
       " 'RIGHT_FOOT_INDEX_X',\n",
       " 'RIGHT_FOOT_INDEX_Y']"
      ]
     },
     "execution_count": 7,
     "metadata": {},
     "output_type": "execute_result"
    }
   ],
   "source": [
    "col_names"
   ]
  },
  {
   "cell_type": "code",
   "execution_count": 8,
   "id": "1b847d8d",
   "metadata": {},
   "outputs": [
    {
     "data": {
      "text/plain": [
       "'LEFT_PINKY_X'"
      ]
     },
     "execution_count": 8,
     "metadata": {},
     "output_type": "execute_result"
    }
   ],
   "source": [
    "col_names[12]"
   ]
  },
  {
   "cell_type": "code",
   "execution_count": 12,
   "id": "36c4a84d",
   "metadata": {},
   "outputs": [
    {
     "data": {
      "text/plain": [
       "'LEFT_HIP_X'"
      ]
     },
     "execution_count": 12,
     "metadata": {},
     "output_type": "execute_result"
    }
   ],
   "source": [
    "col_names[24]"
   ]
  },
  {
   "cell_type": "code",
   "execution_count": 13,
   "id": "0225bb55",
   "metadata": {},
   "outputs": [],
   "source": [
    "a = col_names[0:12]\n",
    "b = col_names[24:]\n",
    "# a,b"
   ]
  },
  {
   "cell_type": "code",
   "execution_count": 14,
   "id": "4d45de76",
   "metadata": {},
   "outputs": [
    {
     "data": {
      "text/plain": [
       "['LEFT_SHOULDER_X',\n",
       " 'LEFT_SHOULDER_Y',\n",
       " 'RIGHT_SHOULDER_X',\n",
       " 'RIGHT_SHOULDER_Y',\n",
       " 'LEFT_ELBOW_X',\n",
       " 'LEFT_ELBOW_Y',\n",
       " 'RIGHT_ELBOW_X',\n",
       " 'RIGHT_ELBOW_Y',\n",
       " 'LEFT_WRIST_X',\n",
       " 'LEFT_WRIST_Y',\n",
       " 'RIGHT_WRIST_X',\n",
       " 'RIGHT_WRIST_Y']"
      ]
     },
     "execution_count": 14,
     "metadata": {},
     "output_type": "execute_result"
    }
   ],
   "source": [
    "a"
   ]
  },
  {
   "cell_type": "code",
   "execution_count": 15,
   "id": "f6c7f38e",
   "metadata": {},
   "outputs": [
    {
     "data": {
      "text/plain": [
       "['LEFT_HIP_X',\n",
       " 'LEFT_HIP_Y',\n",
       " 'RIGHT_HIP_X',\n",
       " 'RIGHT_HIP_Y',\n",
       " 'LEFT_KNEE_X',\n",
       " 'LEFT_KNEE_Y',\n",
       " 'RIGHT_KNEE_X',\n",
       " 'RIGHT_KNEE_Y',\n",
       " 'LEFT_ANKLE_X',\n",
       " 'LEFT_ANKLE_Y',\n",
       " 'RIGHT_ANKLE_X',\n",
       " 'RIGHT_ANKLE_Y',\n",
       " 'LEFT_HEEL_X',\n",
       " 'LEFT_HEEL_Y',\n",
       " 'RIGHT_HEEL_X',\n",
       " 'RIGHT_HEEL_Y',\n",
       " 'LEFT_FOOT_INDEX_X',\n",
       " 'LEFT_FOOT_INDEX_Y',\n",
       " 'RIGHT_FOOT_INDEX_X',\n",
       " 'RIGHT_FOOT_INDEX_Y']"
      ]
     },
     "execution_count": 15,
     "metadata": {},
     "output_type": "execute_result"
    }
   ],
   "source": [
    "b"
   ]
  },
  {
   "cell_type": "code",
   "execution_count": 16,
   "id": "3f69c9cf",
   "metadata": {},
   "outputs": [
    {
     "data": {
      "text/plain": [
       "12"
      ]
     },
     "execution_count": 16,
     "metadata": {},
     "output_type": "execute_result"
    }
   ],
   "source": [
    "len(a)"
   ]
  },
  {
   "cell_type": "code",
   "execution_count": 17,
   "id": "1f942bd7",
   "metadata": {},
   "outputs": [
    {
     "data": {
      "text/plain": [
       "20"
      ]
     },
     "execution_count": 17,
     "metadata": {},
     "output_type": "execute_result"
    }
   ],
   "source": [
    "len(b)"
   ]
  },
  {
   "cell_type": "code",
   "execution_count": 18,
   "id": "b9d1db92",
   "metadata": {},
   "outputs": [],
   "source": [
    "a.extend(b)"
   ]
  },
  {
   "cell_type": "code",
   "execution_count": 19,
   "id": "37c62459",
   "metadata": {},
   "outputs": [
    {
     "data": {
      "text/plain": [
       "32"
      ]
     },
     "execution_count": 19,
     "metadata": {},
     "output_type": "execute_result"
    }
   ],
   "source": [
    "len(a)"
   ]
  },
  {
   "cell_type": "code",
   "execution_count": 20,
   "id": "b1f5d516",
   "metadata": {},
   "outputs": [
    {
     "data": {
      "text/html": [
       "<div>\n",
       "<style scoped>\n",
       "    .dataframe tbody tr th:only-of-type {\n",
       "        vertical-align: middle;\n",
       "    }\n",
       "\n",
       "    .dataframe tbody tr th {\n",
       "        vertical-align: top;\n",
       "    }\n",
       "\n",
       "    .dataframe thead th {\n",
       "        text-align: right;\n",
       "    }\n",
       "</style>\n",
       "<table border=\"1\" class=\"dataframe\">\n",
       "  <thead>\n",
       "    <tr style=\"text-align: right;\">\n",
       "      <th></th>\n",
       "      <th>LEFT_SHOULDER_X</th>\n",
       "      <th>LEFT_SHOULDER_Y</th>\n",
       "      <th>RIGHT_SHOULDER_X</th>\n",
       "      <th>RIGHT_SHOULDER_Y</th>\n",
       "      <th>LEFT_ELBOW_X</th>\n",
       "      <th>LEFT_ELBOW_Y</th>\n",
       "      <th>RIGHT_ELBOW_X</th>\n",
       "      <th>RIGHT_ELBOW_Y</th>\n",
       "      <th>LEFT_WRIST_X</th>\n",
       "      <th>LEFT_WRIST_Y</th>\n",
       "      <th>...</th>\n",
       "      <th>RIGHT_ANKLE_X</th>\n",
       "      <th>RIGHT_ANKLE_Y</th>\n",
       "      <th>LEFT_HEEL_X</th>\n",
       "      <th>LEFT_HEEL_Y</th>\n",
       "      <th>RIGHT_HEEL_X</th>\n",
       "      <th>RIGHT_HEEL_Y</th>\n",
       "      <th>LEFT_FOOT_INDEX_X</th>\n",
       "      <th>LEFT_FOOT_INDEX_Y</th>\n",
       "      <th>RIGHT_FOOT_INDEX_X</th>\n",
       "      <th>RIGHT_FOOT_INDEX_Y</th>\n",
       "    </tr>\n",
       "  </thead>\n",
       "  <tbody>\n",
       "  </tbody>\n",
       "</table>\n",
       "<p>0 rows × 32 columns</p>\n",
       "</div>"
      ],
      "text/plain": [
       "Empty DataFrame\n",
       "Columns: [LEFT_SHOULDER_X, LEFT_SHOULDER_Y, RIGHT_SHOULDER_X, RIGHT_SHOULDER_Y, LEFT_ELBOW_X, LEFT_ELBOW_Y, RIGHT_ELBOW_X, RIGHT_ELBOW_Y, LEFT_WRIST_X, LEFT_WRIST_Y, RIGHT_WRIST_X, RIGHT_WRIST_Y, LEFT_HIP_X, LEFT_HIP_Y, RIGHT_HIP_X, RIGHT_HIP_Y, LEFT_KNEE_X, LEFT_KNEE_Y, RIGHT_KNEE_X, RIGHT_KNEE_Y, LEFT_ANKLE_X, LEFT_ANKLE_Y, RIGHT_ANKLE_X, RIGHT_ANKLE_Y, LEFT_HEEL_X, LEFT_HEEL_Y, RIGHT_HEEL_X, RIGHT_HEEL_Y, LEFT_FOOT_INDEX_X, LEFT_FOOT_INDEX_Y, RIGHT_FOOT_INDEX_X, RIGHT_FOOT_INDEX_Y]\n",
       "Index: []\n",
       "\n",
       "[0 rows x 32 columns]"
      ]
     },
     "execution_count": 20,
     "metadata": {},
     "output_type": "execute_result"
    }
   ],
   "source": [
    "\n",
    "df3 = pd.DataFrame(columns=a)\n",
    "df3"
   ]
  },
  {
   "cell_type": "markdown",
   "id": "3ad95357",
   "metadata": {},
   "source": [
    "<img src=\"https://i.imgur.com/3j8BPdc.png\" style=\"height:300px\" >"
   ]
  },
  {
   "cell_type": "code",
   "execution_count": 21,
   "id": "07b0bce1",
   "metadata": {},
   "outputs": [
    {
     "ename": "NameError",
     "evalue": "name 'results' is not defined",
     "output_type": "error",
     "traceback": [
      "\u001b[1;31m---------------------------------------------------------------------------\u001b[0m",
      "\u001b[1;31mNameError\u001b[0m                                 Traceback (most recent call last)",
      "Input \u001b[1;32mIn [21]\u001b[0m, in \u001b[0;36m<cell line: 1>\u001b[1;34m()\u001b[0m\n\u001b[1;32m----> 1\u001b[0m landmarks \u001b[38;5;241m=\u001b[39m results\u001b[38;5;241m.\u001b[39mpose_landmarks\u001b[38;5;241m.\u001b[39mlandmark\n\u001b[0;32m      2\u001b[0m \u001b[38;5;28mprint\u001b[39m(\u001b[38;5;28mlen\u001b[39m(landmarks))\n\u001b[0;32m      3\u001b[0m \u001b[38;5;28mprint\u001b[39m(landmarks[\u001b[38;5;241m0\u001b[39m])\n",
      "\u001b[1;31mNameError\u001b[0m: name 'results' is not defined"
     ]
    }
   ],
   "source": [
    "landmarks = results.pose_landmarks.landmark\n",
    "print(len(landmarks))\n",
    "print(landmarks[0])"
   ]
  },
  {
   "cell_type": "code",
   "execution_count": 22,
   "id": "42430299",
   "metadata": {},
   "outputs": [
    {
     "ename": "NameError",
     "evalue": "name 'landmarks' is not defined",
     "output_type": "error",
     "traceback": [
      "\u001b[1;31m---------------------------------------------------------------------------\u001b[0m",
      "\u001b[1;31mNameError\u001b[0m                                 Traceback (most recent call last)",
      "Input \u001b[1;32mIn [22]\u001b[0m, in \u001b[0;36m<cell line: 2>\u001b[1;34m()\u001b[0m\n\u001b[0;32m      1\u001b[0m row \u001b[38;5;241m=\u001b[39m []\n\u001b[0;32m      2\u001b[0m \u001b[38;5;28;01mfor\u001b[39;00m i \u001b[38;5;129;01min\u001b[39;00m \u001b[38;5;28mrange\u001b[39m(\u001b[38;5;241m11\u001b[39m,\u001b[38;5;241m17\u001b[39m):\n\u001b[1;32m----> 3\u001b[0m     broken \u001b[38;5;241m=\u001b[39m \u001b[38;5;28mstr\u001b[39m(landmarks[i])\u001b[38;5;241m.\u001b[39msplit(\u001b[38;5;124m\"\u001b[39m\u001b[38;5;130;01m\\n\u001b[39;00m\u001b[38;5;124m\"\u001b[39m)\n\u001b[0;32m      4\u001b[0m     \u001b[38;5;28;01mfor\u001b[39;00m i \u001b[38;5;129;01min\u001b[39;00m \u001b[38;5;28mrange\u001b[39m(\u001b[38;5;28mlen\u001b[39m(broken)\u001b[38;5;241m-\u001b[39m\u001b[38;5;241m3\u001b[39m):\n\u001b[0;32m      5\u001b[0m         row\u001b[38;5;241m.\u001b[39mappend(\u001b[38;5;28mfloat\u001b[39m(x[i][\u001b[38;5;241m3\u001b[39m:]))\n",
      "\u001b[1;31mNameError\u001b[0m: name 'landmarks' is not defined"
     ]
    }
   ],
   "source": [
    "row = []\n",
    "for i in range(11,17):\n",
    "    broken = str(landmarks[i]).split(\"\\n\")\n",
    "    for i in range(len(broken)-3):\n",
    "        row.append(float(x[i][3:]))\n",
    "for i in range(23,33):\n",
    "    broken = str(landmarks[i]).split(\"\\n\")\n",
    "    for i in range(len(broken)-3):\n",
    "        row.append(float(x[i][3:]))\n",
    "    "
   ]
  },
  {
   "cell_type": "code",
   "execution_count": 78,
   "id": "243f0a43",
   "metadata": {},
   "outputs": [
    {
     "data": {
      "text/plain": [
       "48"
      ]
     },
     "execution_count": 78,
     "metadata": {},
     "output_type": "execute_result"
    }
   ],
   "source": [
    "len(row)"
   ]
  },
  {
   "cell_type": "code",
   "execution_count": 79,
   "id": "60498007",
   "metadata": {},
   "outputs": [
    {
     "data": {
      "text/plain": [
       "[0.5649495124816895,\n",
       " 0.3374246060848236,\n",
       " -0.19197824597358704,\n",
       " 0.5649495124816895,\n",
       " 0.3374246060848236,\n",
       " -0.19197824597358704,\n",
       " 0.5649495124816895,\n",
       " 0.3374246060848236,\n",
       " -0.19197824597358704,\n",
       " 0.5649495124816895,\n",
       " 0.3374246060848236,\n",
       " -0.19197824597358704,\n",
       " 0.5649495124816895,\n",
       " 0.3374246060848236,\n",
       " -0.19197824597358704,\n",
       " 0.5649495124816895,\n",
       " 0.3374246060848236,\n",
       " -0.19197824597358704,\n",
       " 0.5649495124816895,\n",
       " 0.3374246060848236,\n",
       " -0.19197824597358704,\n",
       " 0.5649495124816895,\n",
       " 0.3374246060848236,\n",
       " -0.19197824597358704,\n",
       " 0.5649495124816895,\n",
       " 0.3374246060848236,\n",
       " -0.19197824597358704,\n",
       " 0.5649495124816895,\n",
       " 0.3374246060848236,\n",
       " -0.19197824597358704,\n",
       " 0.5649495124816895,\n",
       " 0.3374246060848236,\n",
       " -0.19197824597358704,\n",
       " 0.5649495124816895,\n",
       " 0.3374246060848236,\n",
       " -0.19197824597358704,\n",
       " 0.5649495124816895,\n",
       " 0.3374246060848236,\n",
       " -0.19197824597358704,\n",
       " 0.5649495124816895,\n",
       " 0.3374246060848236,\n",
       " -0.19197824597358704,\n",
       " 0.5649495124816895,\n",
       " 0.3374246060848236,\n",
       " -0.19197824597358704,\n",
       " 0.5649495124816895,\n",
       " 0.3374246060848236,\n",
       " -0.19197824597358704]"
      ]
     },
     "execution_count": 79,
     "metadata": {},
     "output_type": "execute_result"
    }
   ],
   "source": [
    "row"
   ]
  },
  {
   "cell_type": "code",
   "execution_count": null,
   "id": "9f54a6fd",
   "metadata": {},
   "outputs": [],
   "source": []
  },
  {
   "cell_type": "code",
   "execution_count": null,
   "id": "477f29d0",
   "metadata": {},
   "outputs": [],
   "source": []
  },
  {
   "cell_type": "code",
   "execution_count": 119,
   "id": "0ad08876",
   "metadata": {},
   "outputs": [
    {
     "name": "stdout",
     "output_type": "stream",
     "text": [
      "[x: 0.5649495124816895\n",
      "y: 0.3374246060848236\n",
      "z: -0.19197824597358704\n",
      "visibility: 0.9999687075614929\n",
      ", x: 0.5682440996170044\n",
      "y: 0.33344870805740356\n",
      "z: -0.17944273352622986\n",
      "visibility: 0.9999325275421143\n",
      ", x: 0.5704246759414673\n",
      "y: 0.3340761959552765\n",
      "z: -0.179438978433609\n",
      "visibility: 0.999930202960968\n",
      ", x: 0.572583019733429\n",
      "y: 0.33478519320487976\n",
      "z: -0.17944781482219696\n",
      "visibility: 0.9999403357505798\n",
      ", x: 0.5620869994163513\n",
      "y: 0.3331635594367981\n",
      "z: -0.17731519043445587\n",
      "visibility: 0.9999328255653381\n",
      ", x: 0.559860348701477\n",
      "y: 0.333736389875412\n",
      "z: -0.17732718586921692\n",
      "visibility: 0.9999271631240845\n",
      ", x: 0.5576006174087524\n",
      "y: 0.33442896604537964\n",
      "z: -0.17733630537986755\n",
      "visibility: 0.9999397397041321\n",
      ", x: 0.5772601366043091\n",
      "y: 0.3455028831958771\n",
      "z: -0.10832025855779648\n",
      "visibility: 0.9999144673347473\n",
      ", x: 0.5553354024887085\n",
      "y: 0.34707894921302795\n",
      "z: -0.09928794950246811\n",
      "visibility: 0.9998507499694824\n",
      ", x: 0.5697582960128784\n",
      "y: 0.3488749861717224\n",
      "z: -0.1659068763256073\n",
      "visibility: 0.9999570250511169\n",
      ", x: 0.5612676739692688\n",
      "y: 0.3492359519004822\n",
      "z: -0.16338558495044708\n",
      "visibility: 0.9999278783798218\n",
      ", x: 0.604190468788147\n",
      "y: 0.4228419363498688\n",
      "z: -0.06629707664251328\n",
      "visibility: 0.9999744892120361\n",
      ", x: 0.5373411774635315\n",
      "y: 0.4289286434650421\n",
      "z: -0.04758843034505844\n",
      "visibility: 0.9998518824577332\n",
      ", x: 0.6221953630447388\n",
      "y: 0.5050216913223267\n",
      "z: -0.02829733118414879\n",
      "visibility: 0.9921799302101135\n",
      ", x: 0.5228570103645325\n",
      "y: 0.5151301026344299\n",
      "z: -0.013911398127675056\n",
      "visibility: 0.9360170960426331\n",
      ", x: 0.6234968304634094\n",
      "y: 0.5919626355171204\n",
      "z: -0.08203175663948059\n",
      "visibility: 0.9823688268661499\n",
      ", x: 0.5311411023139954\n",
      "y: 0.586211085319519\n",
      "z: -0.0671130120754242\n",
      "visibility: 0.9319071769714355\n",
      ", x: 0.6253771781921387\n",
      "y: 0.6208088994026184\n",
      "z: -0.09942250698804855\n",
      "visibility: 0.9657487869262695\n",
      ", x: 0.531446099281311\n",
      "y: 0.6120729446411133\n",
      "z: -0.08533258736133575\n",
      "visibility: 0.8874099254608154\n",
      ", x: 0.621725857257843\n",
      "y: 0.6198407411575317\n",
      "z: -0.1204041838645935\n",
      "visibility: 0.9665287733078003\n",
      ", x: 0.5364983081817627\n",
      "y: 0.6079680323600769\n",
      "z: -0.1041928082704544\n",
      "visibility: 0.8895506262779236\n",
      ", x: 0.619390606880188\n",
      "y: 0.6119747757911682\n",
      "z: -0.09062948822975159\n",
      "visibility: 0.9560203552246094\n",
      ", x: 0.5379375219345093\n",
      "y: 0.5992603898048401\n",
      "z: -0.07551586627960205\n",
      "visibility: 0.8752259016036987\n",
      ", x: 0.5947161912918091\n",
      "y: 0.5949738025665283\n",
      "z: -0.011863009072840214\n",
      "visibility: 0.9998385310173035\n",
      ", x: 0.5570454597473145\n",
      "y: 0.6010479927062988\n",
      "z: 0.011729244142770767\n",
      "visibility: 0.9997865557670593\n",
      ", x: 0.5920571088790894\n",
      "y: 0.7365294694900513\n",
      "z: -0.0508265420794487\n",
      "visibility: 0.9505600333213806\n",
      ", x: 0.5642021894454956\n",
      "y: 0.7425730228424072\n",
      "z: -0.009400890208780766\n",
      "visibility: 0.9323429465293884\n",
      ", x: 0.5927950143814087\n",
      "y: 0.8633167743682861\n",
      "z: 0.08107359707355499\n",
      "visibility: 0.961537778377533\n",
      ", x: 0.5903664827346802\n",
      "y: 0.851503312587738\n",
      "z: 0.12752307951450348\n",
      "visibility: 0.9305335283279419\n",
      ", x: 0.5935863256454468\n",
      "y: 0.8783946633338928\n",
      "z: 0.08934184163808823\n",
      "visibility: 0.7751589417457581\n",
      ", x: 0.597415030002594\n",
      "y: 0.8636884689331055\n",
      "z: 0.13691440224647522\n",
      "visibility: 0.8130355477333069\n",
      ", x: 0.5967195630073547\n",
      "y: 0.9006203413009644\n",
      "z: 0.001789518864825368\n",
      "visibility: 0.9490919709205627\n",
      ", x: 0.5810182094573975\n",
      "y: 0.8980153203010559\n",
      "z: 0.058478742837905884\n",
      "visibility: 0.9245845079421997\n",
      "]\n"
     ]
    }
   ],
   "source": [
    "send_data(results)"
   ]
  },
  {
   "cell_type": "code",
   "execution_count": null,
   "id": "80d89547",
   "metadata": {},
   "outputs": [],
   "source": []
  },
  {
   "cell_type": "code",
   "execution_count": null,
   "id": "0034db7f",
   "metadata": {},
   "outputs": [],
   "source": []
  },
  {
   "cell_type": "markdown",
   "id": "f6f110c8",
   "metadata": {},
   "source": [
    "# 1. Make Detections and save to excel"
   ]
  },
  {
   "cell_type": "code",
   "execution_count": 26,
   "id": "5081aea5",
   "metadata": {},
   "outputs": [],
   "source": [
    "def send_data(results):\n",
    "    landmarks = results.pose_landmarks.landmark\n",
    "    row = []\n",
    "    for i in range(11,17):\n",
    "        broken = str(landmarks[i]).split(\"\\n\")\n",
    "        for i in range(len(broken)-3):\n",
    "            row.append(float(broken[i][3:]))\n",
    "    for i in range(23,33):\n",
    "        broken = str(landmarks[i]).split(\"\\n\")\n",
    "        for i in range(len(broken)-3):\n",
    "            row.append(float(broken[i][3:]))\n",
    "    df3.loc[len(df3)] = row"
   ]
  },
  {
   "cell_type": "code",
   "execution_count": null,
   "id": "5ceafe2c",
   "metadata": {},
   "outputs": [],
   "source": []
  },
  {
   "cell_type": "code",
   "execution_count": 27,
   "id": "df115544",
   "metadata": {},
   "outputs": [],
   "source": [
    "# col_names"
   ]
  },
  {
   "cell_type": "code",
   "execution_count": 28,
   "id": "53c5e519",
   "metadata": {},
   "outputs": [],
   "source": [
    "# data = []\n",
    "df = pd.DataFrame(columns=col_names)\n",
    "cap = cv2.VideoCapture(\"hs.mp4\")\n",
    "## Setup mediapipe instance\n",
    "with mp_pose.Pose(min_detection_confidence=0.5, min_tracking_confidence=0.5) as pose:\n",
    "    while cap.isOpened():\n",
    "        ret, frame = cap.read()\n",
    "        if ret == True:\n",
    "        \n",
    "            # Recolor image to RGB\n",
    "            image = cv2.cvtColor(frame, cv2.COLOR_BGR2RGB)\n",
    "            image.flags.writeable = False  #helps save memory when passing to model\n",
    "\n",
    "            # Make detection\n",
    "            results = pose.process(image)\n",
    "            send_data(results)\n",
    "#             data.append(results.pose_landmarks.landmark)\n",
    "\n",
    "            # Recolor back to BGR\n",
    "            image.flags.writeable = True\n",
    "            image = cv2.cvtColor(image, cv2.COLOR_RGB2BGR)\n",
    "\n",
    "            # Render detections\n",
    "            mp_drawing.draw_landmarks(image, results.pose_landmarks, mp_pose.POSE_CONNECTIONS,\n",
    "                                    mp_drawing.DrawingSpec(color=(245,117,66), thickness=2, circle_radius=2), #color of dots\n",
    "                                    mp_drawing.DrawingSpec(color=(245,66,230), thickness=2, circle_radius=2) #color of line\n",
    "                                     )               \n",
    "\n",
    "            cv2.imshow('Mediapipe Feed', image)\n",
    "\n",
    "            if cv2.waitKey(10) & 0xFF == ord('q'):\n",
    "                break\n",
    "        else:\n",
    "            break\n",
    "\n",
    "    cap.release()\n",
    "    cv2.destroyAllWindows()"
   ]
  },
  {
   "cell_type": "code",
   "execution_count": 29,
   "id": "b6ed7747",
   "metadata": {},
   "outputs": [
    {
     "data": {
      "text/html": [
       "<div>\n",
       "<style scoped>\n",
       "    .dataframe tbody tr th:only-of-type {\n",
       "        vertical-align: middle;\n",
       "    }\n",
       "\n",
       "    .dataframe tbody tr th {\n",
       "        vertical-align: top;\n",
       "    }\n",
       "\n",
       "    .dataframe thead th {\n",
       "        text-align: right;\n",
       "    }\n",
       "</style>\n",
       "<table border=\"1\" class=\"dataframe\">\n",
       "  <thead>\n",
       "    <tr style=\"text-align: right;\">\n",
       "      <th></th>\n",
       "      <th>LEFT_SHOULDER_X</th>\n",
       "      <th>LEFT_SHOULDER_Y</th>\n",
       "      <th>RIGHT_SHOULDER_X</th>\n",
       "      <th>RIGHT_SHOULDER_Y</th>\n",
       "      <th>LEFT_ELBOW_X</th>\n",
       "      <th>LEFT_ELBOW_Y</th>\n",
       "      <th>RIGHT_ELBOW_X</th>\n",
       "      <th>RIGHT_ELBOW_Y</th>\n",
       "      <th>LEFT_WRIST_X</th>\n",
       "      <th>LEFT_WRIST_Y</th>\n",
       "      <th>...</th>\n",
       "      <th>RIGHT_ANKLE_X</th>\n",
       "      <th>RIGHT_ANKLE_Y</th>\n",
       "      <th>LEFT_HEEL_X</th>\n",
       "      <th>LEFT_HEEL_Y</th>\n",
       "      <th>RIGHT_HEEL_X</th>\n",
       "      <th>RIGHT_HEEL_Y</th>\n",
       "      <th>LEFT_FOOT_INDEX_X</th>\n",
       "      <th>LEFT_FOOT_INDEX_Y</th>\n",
       "      <th>RIGHT_FOOT_INDEX_X</th>\n",
       "      <th>RIGHT_FOOT_INDEX_Y</th>\n",
       "    </tr>\n",
       "  </thead>\n",
       "  <tbody>\n",
       "    <tr>\n",
       "      <th>0</th>\n",
       "      <td>0.571178</td>\n",
       "      <td>0.425766</td>\n",
       "      <td>0.554026</td>\n",
       "      <td>0.437039</td>\n",
       "      <td>0.578167</td>\n",
       "      <td>0.525713</td>\n",
       "      <td>0.563530</td>\n",
       "      <td>0.517542</td>\n",
       "      <td>0.549956</td>\n",
       "      <td>0.545183</td>\n",
       "      <td>...</td>\n",
       "      <td>0.568097</td>\n",
       "      <td>0.867228</td>\n",
       "      <td>0.603163</td>\n",
       "      <td>0.897759</td>\n",
       "      <td>0.571979</td>\n",
       "      <td>0.885664</td>\n",
       "      <td>0.567322</td>\n",
       "      <td>0.902119</td>\n",
       "      <td>0.535911</td>\n",
       "      <td>0.891445</td>\n",
       "    </tr>\n",
       "    <tr>\n",
       "      <th>1</th>\n",
       "      <td>0.570931</td>\n",
       "      <td>0.428420</td>\n",
       "      <td>0.553907</td>\n",
       "      <td>0.437867</td>\n",
       "      <td>0.576451</td>\n",
       "      <td>0.527372</td>\n",
       "      <td>0.562047</td>\n",
       "      <td>0.518745</td>\n",
       "      <td>0.546656</td>\n",
       "      <td>0.545867</td>\n",
       "      <td>...</td>\n",
       "      <td>0.568432</td>\n",
       "      <td>0.866141</td>\n",
       "      <td>0.602169</td>\n",
       "      <td>0.896778</td>\n",
       "      <td>0.575774</td>\n",
       "      <td>0.885927</td>\n",
       "      <td>0.563761</td>\n",
       "      <td>0.902244</td>\n",
       "      <td>0.538319</td>\n",
       "      <td>0.891688</td>\n",
       "    </tr>\n",
       "    <tr>\n",
       "      <th>2</th>\n",
       "      <td>0.570780</td>\n",
       "      <td>0.429787</td>\n",
       "      <td>0.553824</td>\n",
       "      <td>0.438616</td>\n",
       "      <td>0.575554</td>\n",
       "      <td>0.528073</td>\n",
       "      <td>0.561278</td>\n",
       "      <td>0.519306</td>\n",
       "      <td>0.545428</td>\n",
       "      <td>0.546299</td>\n",
       "      <td>...</td>\n",
       "      <td>0.568956</td>\n",
       "      <td>0.865249</td>\n",
       "      <td>0.603649</td>\n",
       "      <td>0.893482</td>\n",
       "      <td>0.577578</td>\n",
       "      <td>0.885927</td>\n",
       "      <td>0.563273</td>\n",
       "      <td>0.902269</td>\n",
       "      <td>0.540448</td>\n",
       "      <td>0.892015</td>\n",
       "    </tr>\n",
       "    <tr>\n",
       "      <th>3</th>\n",
       "      <td>0.570050</td>\n",
       "      <td>0.431232</td>\n",
       "      <td>0.553532</td>\n",
       "      <td>0.440568</td>\n",
       "      <td>0.573461</td>\n",
       "      <td>0.529385</td>\n",
       "      <td>0.560540</td>\n",
       "      <td>0.521346</td>\n",
       "      <td>0.543598</td>\n",
       "      <td>0.548944</td>\n",
       "      <td>...</td>\n",
       "      <td>0.574787</td>\n",
       "      <td>0.860363</td>\n",
       "      <td>0.603365</td>\n",
       "      <td>0.892776</td>\n",
       "      <td>0.578432</td>\n",
       "      <td>0.885814</td>\n",
       "      <td>0.561092</td>\n",
       "      <td>0.902652</td>\n",
       "      <td>0.540058</td>\n",
       "      <td>0.892731</td>\n",
       "    </tr>\n",
       "    <tr>\n",
       "      <th>4</th>\n",
       "      <td>0.569362</td>\n",
       "      <td>0.433093</td>\n",
       "      <td>0.553266</td>\n",
       "      <td>0.444013</td>\n",
       "      <td>0.572898</td>\n",
       "      <td>0.531745</td>\n",
       "      <td>0.559820</td>\n",
       "      <td>0.529621</td>\n",
       "      <td>0.540190</td>\n",
       "      <td>0.549863</td>\n",
       "      <td>...</td>\n",
       "      <td>0.564360</td>\n",
       "      <td>0.860212</td>\n",
       "      <td>0.603978</td>\n",
       "      <td>0.892703</td>\n",
       "      <td>0.572738</td>\n",
       "      <td>0.884053</td>\n",
       "      <td>0.561198</td>\n",
       "      <td>0.902682</td>\n",
       "      <td>0.533926</td>\n",
       "      <td>0.892936</td>\n",
       "    </tr>\n",
       "    <tr>\n",
       "      <th>...</th>\n",
       "      <td>...</td>\n",
       "      <td>...</td>\n",
       "      <td>...</td>\n",
       "      <td>...</td>\n",
       "      <td>...</td>\n",
       "      <td>...</td>\n",
       "      <td>...</td>\n",
       "      <td>...</td>\n",
       "      <td>...</td>\n",
       "      <td>...</td>\n",
       "      <td>...</td>\n",
       "      <td>...</td>\n",
       "      <td>...</td>\n",
       "      <td>...</td>\n",
       "      <td>...</td>\n",
       "      <td>...</td>\n",
       "      <td>...</td>\n",
       "      <td>...</td>\n",
       "      <td>...</td>\n",
       "      <td>...</td>\n",
       "      <td>...</td>\n",
       "    </tr>\n",
       "    <tr>\n",
       "      <th>82</th>\n",
       "      <td>0.557495</td>\n",
       "      <td>0.420161</td>\n",
       "      <td>0.498803</td>\n",
       "      <td>0.458335</td>\n",
       "      <td>0.553441</td>\n",
       "      <td>0.490533</td>\n",
       "      <td>0.501379</td>\n",
       "      <td>0.539952</td>\n",
       "      <td>0.518769</td>\n",
       "      <td>0.552220</td>\n",
       "      <td>...</td>\n",
       "      <td>0.509741</td>\n",
       "      <td>0.867034</td>\n",
       "      <td>0.545544</td>\n",
       "      <td>0.898687</td>\n",
       "      <td>0.517712</td>\n",
       "      <td>0.887785</td>\n",
       "      <td>0.542315</td>\n",
       "      <td>0.908137</td>\n",
       "      <td>0.483275</td>\n",
       "      <td>0.892257</td>\n",
       "    </tr>\n",
       "    <tr>\n",
       "      <th>83</th>\n",
       "      <td>0.559342</td>\n",
       "      <td>0.417939</td>\n",
       "      <td>0.501437</td>\n",
       "      <td>0.455386</td>\n",
       "      <td>0.557134</td>\n",
       "      <td>0.488610</td>\n",
       "      <td>0.503071</td>\n",
       "      <td>0.535863</td>\n",
       "      <td>0.523403</td>\n",
       "      <td>0.551822</td>\n",
       "      <td>...</td>\n",
       "      <td>0.509503</td>\n",
       "      <td>0.867239</td>\n",
       "      <td>0.545562</td>\n",
       "      <td>0.895134</td>\n",
       "      <td>0.516715</td>\n",
       "      <td>0.887445</td>\n",
       "      <td>0.542440</td>\n",
       "      <td>0.907376</td>\n",
       "      <td>0.483391</td>\n",
       "      <td>0.892721</td>\n",
       "    </tr>\n",
       "    <tr>\n",
       "      <th>84</th>\n",
       "      <td>0.562026</td>\n",
       "      <td>0.416667</td>\n",
       "      <td>0.503398</td>\n",
       "      <td>0.454615</td>\n",
       "      <td>0.559275</td>\n",
       "      <td>0.488689</td>\n",
       "      <td>0.505266</td>\n",
       "      <td>0.538872</td>\n",
       "      <td>0.526458</td>\n",
       "      <td>0.552935</td>\n",
       "      <td>...</td>\n",
       "      <td>0.509572</td>\n",
       "      <td>0.867057</td>\n",
       "      <td>0.545744</td>\n",
       "      <td>0.893419</td>\n",
       "      <td>0.516748</td>\n",
       "      <td>0.886704</td>\n",
       "      <td>0.542851</td>\n",
       "      <td>0.906344</td>\n",
       "      <td>0.483475</td>\n",
       "      <td>0.892740</td>\n",
       "    </tr>\n",
       "    <tr>\n",
       "      <th>85</th>\n",
       "      <td>0.563768</td>\n",
       "      <td>0.414370</td>\n",
       "      <td>0.506103</td>\n",
       "      <td>0.452855</td>\n",
       "      <td>0.561482</td>\n",
       "      <td>0.488537</td>\n",
       "      <td>0.507734</td>\n",
       "      <td>0.536980</td>\n",
       "      <td>0.528418</td>\n",
       "      <td>0.555518</td>\n",
       "      <td>...</td>\n",
       "      <td>0.509623</td>\n",
       "      <td>0.867698</td>\n",
       "      <td>0.545806</td>\n",
       "      <td>0.892065</td>\n",
       "      <td>0.516645</td>\n",
       "      <td>0.886727</td>\n",
       "      <td>0.543177</td>\n",
       "      <td>0.906145</td>\n",
       "      <td>0.483708</td>\n",
       "      <td>0.894180</td>\n",
       "    </tr>\n",
       "    <tr>\n",
       "      <th>86</th>\n",
       "      <td>0.564500</td>\n",
       "      <td>0.413524</td>\n",
       "      <td>0.507015</td>\n",
       "      <td>0.450783</td>\n",
       "      <td>0.562012</td>\n",
       "      <td>0.488508</td>\n",
       "      <td>0.508371</td>\n",
       "      <td>0.535347</td>\n",
       "      <td>0.529553</td>\n",
       "      <td>0.556062</td>\n",
       "      <td>...</td>\n",
       "      <td>0.509667</td>\n",
       "      <td>0.868352</td>\n",
       "      <td>0.545614</td>\n",
       "      <td>0.892231</td>\n",
       "      <td>0.516365</td>\n",
       "      <td>0.886876</td>\n",
       "      <td>0.543400</td>\n",
       "      <td>0.905933</td>\n",
       "      <td>0.483852</td>\n",
       "      <td>0.894730</td>\n",
       "    </tr>\n",
       "  </tbody>\n",
       "</table>\n",
       "<p>87 rows × 32 columns</p>\n",
       "</div>"
      ],
      "text/plain": [
       "    LEFT_SHOULDER_X  LEFT_SHOULDER_Y  RIGHT_SHOULDER_X  RIGHT_SHOULDER_Y  \\\n",
       "0          0.571178         0.425766          0.554026          0.437039   \n",
       "1          0.570931         0.428420          0.553907          0.437867   \n",
       "2          0.570780         0.429787          0.553824          0.438616   \n",
       "3          0.570050         0.431232          0.553532          0.440568   \n",
       "4          0.569362         0.433093          0.553266          0.444013   \n",
       "..              ...              ...               ...               ...   \n",
       "82         0.557495         0.420161          0.498803          0.458335   \n",
       "83         0.559342         0.417939          0.501437          0.455386   \n",
       "84         0.562026         0.416667          0.503398          0.454615   \n",
       "85         0.563768         0.414370          0.506103          0.452855   \n",
       "86         0.564500         0.413524          0.507015          0.450783   \n",
       "\n",
       "    LEFT_ELBOW_X  LEFT_ELBOW_Y  RIGHT_ELBOW_X  RIGHT_ELBOW_Y  LEFT_WRIST_X  \\\n",
       "0       0.578167      0.525713       0.563530       0.517542      0.549956   \n",
       "1       0.576451      0.527372       0.562047       0.518745      0.546656   \n",
       "2       0.575554      0.528073       0.561278       0.519306      0.545428   \n",
       "3       0.573461      0.529385       0.560540       0.521346      0.543598   \n",
       "4       0.572898      0.531745       0.559820       0.529621      0.540190   \n",
       "..           ...           ...            ...            ...           ...   \n",
       "82      0.553441      0.490533       0.501379       0.539952      0.518769   \n",
       "83      0.557134      0.488610       0.503071       0.535863      0.523403   \n",
       "84      0.559275      0.488689       0.505266       0.538872      0.526458   \n",
       "85      0.561482      0.488537       0.507734       0.536980      0.528418   \n",
       "86      0.562012      0.488508       0.508371       0.535347      0.529553   \n",
       "\n",
       "    LEFT_WRIST_Y  ...  RIGHT_ANKLE_X  RIGHT_ANKLE_Y  LEFT_HEEL_X  LEFT_HEEL_Y  \\\n",
       "0       0.545183  ...       0.568097       0.867228     0.603163     0.897759   \n",
       "1       0.545867  ...       0.568432       0.866141     0.602169     0.896778   \n",
       "2       0.546299  ...       0.568956       0.865249     0.603649     0.893482   \n",
       "3       0.548944  ...       0.574787       0.860363     0.603365     0.892776   \n",
       "4       0.549863  ...       0.564360       0.860212     0.603978     0.892703   \n",
       "..           ...  ...            ...            ...          ...          ...   \n",
       "82      0.552220  ...       0.509741       0.867034     0.545544     0.898687   \n",
       "83      0.551822  ...       0.509503       0.867239     0.545562     0.895134   \n",
       "84      0.552935  ...       0.509572       0.867057     0.545744     0.893419   \n",
       "85      0.555518  ...       0.509623       0.867698     0.545806     0.892065   \n",
       "86      0.556062  ...       0.509667       0.868352     0.545614     0.892231   \n",
       "\n",
       "    RIGHT_HEEL_X  RIGHT_HEEL_Y  LEFT_FOOT_INDEX_X  LEFT_FOOT_INDEX_Y  \\\n",
       "0       0.571979      0.885664           0.567322           0.902119   \n",
       "1       0.575774      0.885927           0.563761           0.902244   \n",
       "2       0.577578      0.885927           0.563273           0.902269   \n",
       "3       0.578432      0.885814           0.561092           0.902652   \n",
       "4       0.572738      0.884053           0.561198           0.902682   \n",
       "..           ...           ...                ...                ...   \n",
       "82      0.517712      0.887785           0.542315           0.908137   \n",
       "83      0.516715      0.887445           0.542440           0.907376   \n",
       "84      0.516748      0.886704           0.542851           0.906344   \n",
       "85      0.516645      0.886727           0.543177           0.906145   \n",
       "86      0.516365      0.886876           0.543400           0.905933   \n",
       "\n",
       "    RIGHT_FOOT_INDEX_X  RIGHT_FOOT_INDEX_Y  \n",
       "0             0.535911            0.891445  \n",
       "1             0.538319            0.891688  \n",
       "2             0.540448            0.892015  \n",
       "3             0.540058            0.892731  \n",
       "4             0.533926            0.892936  \n",
       "..                 ...                 ...  \n",
       "82            0.483275            0.892257  \n",
       "83            0.483391            0.892721  \n",
       "84            0.483475            0.892740  \n",
       "85            0.483708            0.894180  \n",
       "86            0.483852            0.894730  \n",
       "\n",
       "[87 rows x 32 columns]"
      ]
     },
     "execution_count": 29,
     "metadata": {},
     "output_type": "execute_result"
    }
   ],
   "source": [
    "df3"
   ]
  },
  {
   "cell_type": "code",
   "execution_count": 30,
   "id": "435e8d10",
   "metadata": {},
   "outputs": [],
   "source": [
    "df3.to_csv(\"msd_main_32.csv\")"
   ]
  },
  {
   "cell_type": "code",
   "execution_count": null,
   "id": "2d46a4a9",
   "metadata": {},
   "outputs": [],
   "source": []
  }
 ],
 "metadata": {
  "kernelspec": {
   "display_name": "Python 3 (ipykernel)",
   "language": "python",
   "name": "python3"
  },
  "language_info": {
   "codemirror_mode": {
    "name": "ipython",
    "version": 3
   },
   "file_extension": ".py",
   "mimetype": "text/x-python",
   "name": "python",
   "nbconvert_exporter": "python",
   "pygments_lexer": "ipython3",
   "version": "3.10.6"
  }
 },
 "nbformat": 4,
 "nbformat_minor": 5
}
