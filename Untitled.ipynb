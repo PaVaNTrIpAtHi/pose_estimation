{
 "cells": [
  {
   "cell_type": "code",
   "execution_count": null,
   "id": "36a46d5b",
   "metadata": {},
   "outputs": [],
   "source": [
    "from flask import *  \n",
    "from werkzeug import secure_filename\n",
    "app = Flask(__name__)\n",
    "\n",
    "\n",
    "IMAGE_FOLDER = 'static/'\n",
    "#PROCESSED_FOLDER = 'processed/'\n",
    "\n",
    "app = Flask(__name__)  \n",
    "app.config['UPLOAD_FOLDER'] = IMAGE_FOLDER\n",
    "#app.config['PROCESSED_FOLDER'] = PROCESSED_FOLDER\n",
    "\n",
    "@app.route('/')  \n",
    "def upload():\n",
    "    return render_template(\"file_upload_form.html\")  \n",
    " \n",
    "@app.route('/success', methods = ['POST'])\n",
    "def success():\n",
    "    if request.method == 'POST':\n",
    "        f = request.files['file']\n",
    "        f.save(os.path.join(app.config['UPLOAD_FOLDER'], f.filename))\n",
    "        full_filename = os.path.join(app.config['UPLOAD_FOLDER'], f.filename)\n",
    "        image_ext = cv2.imread(full_filename)\n",
    "        img_path = full_filename\n",
    "        #print(image_ext.shape)\n",
    "        with graph.as_default():\n",
    "            set_session(sess)\n",
    "            txt = predict_image(img_path)\n",
    "            print(\"yippie\")\n",
    "            #result = predict_image(img_path, model)\n",
    "            #txt = result\n",
    "        final_text = 'Results after Detecting Dog Breed in Input Image'\n",
    "        return render_template(\"success.html\", name = final_text, img = full_filename, out_1 = txt)\n",
    "\n",
    "\n",
    "@app.route('/info', methods = ['POST'])  \n",
    "def info():\n",
    "    return render_template(\"info.html\")  \n",
    "\n",
    "\n",
    "if __name__ == '__main__':  \n",
    "    app.run(host=\"127.0.0.1\",port=8080,debug=True)  \n",
    "\n",
    "\n",
    "\n",
    "\n",
    "\n",
    "\n"
   ]
  },
  {
   "cell_type": "code",
   "execution_count": 1,
   "id": "f49ad7c7",
   "metadata": {},
   "outputs": [
    {
     "name": "stdout",
     "output_type": "stream",
     "text": [
      "^C\n"
     ]
    }
   ],
   "source": [
    "!python main.py"
   ]
  },
  {
   "cell_type": "code",
   "execution_count": null,
   "id": "3ffb40a4",
   "metadata": {},
   "outputs": [],
   "source": []
  }
 ],
 "metadata": {
  "kernelspec": {
   "display_name": "Python 3 (ipykernel)",
   "language": "python",
   "name": "python3"
  },
  "language_info": {
   "codemirror_mode": {
    "name": "ipython",
    "version": 3
   },
   "file_extension": ".py",
   "mimetype": "text/x-python",
   "name": "python",
   "nbconvert_exporter": "python",
   "pygments_lexer": "ipython3",
   "version": "3.10.6"
  }
 },
 "nbformat": 4,
 "nbformat_minor": 5
}
